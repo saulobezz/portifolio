{
 "cells": [
  {
   "cell_type": "code",
   "execution_count": 13,
   "metadata": {},
   "outputs": [],
   "source": [
    "import pandas as pd\n",
    "import matplotlib.pyplot as plt"
   ]
  },
  {
   "cell_type": "code",
   "execution_count": 4,
   "metadata": {},
   "outputs": [],
   "source": [
    "df = pd.read_csv(\"Five Thirty Eight - avengers.csv\", encoding = \"ISO-8859-1\")"
   ]
  },
  {
   "cell_type": "code",
   "execution_count": 11,
   "metadata": {},
   "outputs": [
    {
     "data": {
      "application/vnd.microsoft.datawrangler.viewer.v0+json": {
       "columns": [
        {
         "name": "index",
         "rawType": "int64",
         "type": "integer"
        },
        {
         "name": "URL",
         "rawType": "object",
         "type": "string"
        },
        {
         "name": "Name/Alias",
         "rawType": "object",
         "type": "string"
        },
        {
         "name": "Appearances",
         "rawType": "int64",
         "type": "integer"
        },
        {
         "name": "Current?",
         "rawType": "object",
         "type": "string"
        },
        {
         "name": "Gender",
         "rawType": "object",
         "type": "string"
        },
        {
         "name": "Probationary Introl",
         "rawType": "object",
         "type": "unknown"
        },
        {
         "name": "Full/Reserve Avengers Intro",
         "rawType": "object",
         "type": "string"
        },
        {
         "name": "Year",
         "rawType": "int64",
         "type": "integer"
        },
        {
         "name": "Years since joining",
         "rawType": "int64",
         "type": "integer"
        },
        {
         "name": "Honorary",
         "rawType": "object",
         "type": "string"
        },
        {
         "name": "Death1",
         "rawType": "int64",
         "type": "integer"
        },
        {
         "name": "Return1",
         "rawType": "int64",
         "type": "integer"
        },
        {
         "name": "Death2",
         "rawType": "object",
         "type": "unknown"
        },
        {
         "name": "Return2",
         "rawType": "object",
         "type": "unknown"
        },
        {
         "name": "Death3",
         "rawType": "object",
         "type": "unknown"
        },
        {
         "name": "Return3",
         "rawType": "object",
         "type": "unknown"
        },
        {
         "name": "Death4",
         "rawType": "object",
         "type": "unknown"
        },
        {
         "name": "Return4",
         "rawType": "object",
         "type": "unknown"
        },
        {
         "name": "Death5",
         "rawType": "object",
         "type": "unknown"
        },
        {
         "name": "Return5",
         "rawType": "object",
         "type": "unknown"
        },
        {
         "name": "Notes",
         "rawType": "object",
         "type": "string"
        }
       ],
       "conversionMethod": "pd.DataFrame",
       "ref": "750190f1-ea49-4dfe-9639-c45df78e00fb",
       "rows": [
        [
         "0",
         "http://marvel.wikia.com/Henry_Pym_(Earth-616)",
         "Henry Jonathan \"Hank\" Pym",
         "1269",
         "YES",
         "MALE",
         null,
         "Sep-63",
         "1963",
         "52",
         "Full",
         "1",
         "0",
         null,
         null,
         null,
         null,
         null,
         null,
         null,
         null,
         "Merged with Ultron in Rage of Ultron Vol. 1. A funeral was held. "
        ],
        [
         "1",
         "http://marvel.wikia.com/Janet_van_Dyne_(Earth-616)",
         "Janet van Dyne",
         "1165",
         "YES",
         "FEMALE",
         null,
         "Sep-63",
         "1963",
         "52",
         "Full",
         "1",
         "1",
         null,
         null,
         null,
         null,
         null,
         null,
         null,
         null,
         "Dies in Secret Invasion V1:I8. Actually was sent tto Microverse later recovered"
        ],
        [
         "2",
         "http://marvel.wikia.com/Anthony_Stark_(Earth-616)",
         "Anthony Edward \"Tony\" Stark",
         "3068",
         "YES",
         "MALE",
         null,
         "Sep-63",
         "1963",
         "52",
         "Full",
         "1",
         "1",
         null,
         null,
         null,
         null,
         null,
         null,
         null,
         null,
         "Death: \"Later while under the influence of Immortus Stark committed a number of horrible acts and was killed.'  This set up young Tony. Franklin Richards later brought him back"
        ],
        [
         "3",
         "http://marvel.wikia.com/Robert_Bruce_Banner_(Earth-616)",
         "Robert Bruce Banner",
         "2089",
         "YES",
         "MALE",
         null,
         "Sep-63",
         "1963",
         "52",
         "Full",
         "1",
         "1",
         null,
         null,
         null,
         null,
         null,
         null,
         null,
         null,
         "Dies in Ghosts of the Future arc. However \"he had actually used a hidden Pantheon base to survive\""
        ],
        [
         "4",
         "http://marvel.wikia.com/Thor_Odinson_(Earth-616)",
         "Thor Odinson",
         "2402",
         "YES",
         "MALE",
         null,
         "Sep-63",
         "1963",
         "52",
         "Full",
         "1",
         "1",
         "YES",
         "NO",
         null,
         null,
         null,
         null,
         null,
         null,
         "Dies in Fear Itself brought back because that's kind of the whole point. Second death in Time Runs Out has not yet returned"
        ]
       ],
       "shape": {
        "columns": 21,
        "rows": 5
       }
      },
      "text/html": [
       "<div>\n",
       "<style scoped>\n",
       "    .dataframe tbody tr th:only-of-type {\n",
       "        vertical-align: middle;\n",
       "    }\n",
       "\n",
       "    .dataframe tbody tr th {\n",
       "        vertical-align: top;\n",
       "    }\n",
       "\n",
       "    .dataframe thead th {\n",
       "        text-align: right;\n",
       "    }\n",
       "</style>\n",
       "<table border=\"1\" class=\"dataframe\">\n",
       "  <thead>\n",
       "    <tr style=\"text-align: right;\">\n",
       "      <th></th>\n",
       "      <th>URL</th>\n",
       "      <th>Name/Alias</th>\n",
       "      <th>Appearances</th>\n",
       "      <th>Current?</th>\n",
       "      <th>Gender</th>\n",
       "      <th>Probationary Introl</th>\n",
       "      <th>Full/Reserve Avengers Intro</th>\n",
       "      <th>Year</th>\n",
       "      <th>Years since joining</th>\n",
       "      <th>Honorary</th>\n",
       "      <th>...</th>\n",
       "      <th>Return1</th>\n",
       "      <th>Death2</th>\n",
       "      <th>Return2</th>\n",
       "      <th>Death3</th>\n",
       "      <th>Return3</th>\n",
       "      <th>Death4</th>\n",
       "      <th>Return4</th>\n",
       "      <th>Death5</th>\n",
       "      <th>Return5</th>\n",
       "      <th>Notes</th>\n",
       "    </tr>\n",
       "  </thead>\n",
       "  <tbody>\n",
       "    <tr>\n",
       "      <th>0</th>\n",
       "      <td>http://marvel.wikia.com/Henry_Pym_(Earth-616)</td>\n",
       "      <td>Henry Jonathan \"Hank\" Pym</td>\n",
       "      <td>1269</td>\n",
       "      <td>YES</td>\n",
       "      <td>MALE</td>\n",
       "      <td>NaN</td>\n",
       "      <td>Sep-63</td>\n",
       "      <td>1963</td>\n",
       "      <td>52</td>\n",
       "      <td>Full</td>\n",
       "      <td>...</td>\n",
       "      <td>0</td>\n",
       "      <td>NaN</td>\n",
       "      <td>NaN</td>\n",
       "      <td>NaN</td>\n",
       "      <td>NaN</td>\n",
       "      <td>NaN</td>\n",
       "      <td>NaN</td>\n",
       "      <td>NaN</td>\n",
       "      <td>NaN</td>\n",
       "      <td>Merged with Ultron in Rage of Ultron Vol. 1. A...</td>\n",
       "    </tr>\n",
       "    <tr>\n",
       "      <th>1</th>\n",
       "      <td>http://marvel.wikia.com/Janet_van_Dyne_(Earth-...</td>\n",
       "      <td>Janet van Dyne</td>\n",
       "      <td>1165</td>\n",
       "      <td>YES</td>\n",
       "      <td>FEMALE</td>\n",
       "      <td>NaN</td>\n",
       "      <td>Sep-63</td>\n",
       "      <td>1963</td>\n",
       "      <td>52</td>\n",
       "      <td>Full</td>\n",
       "      <td>...</td>\n",
       "      <td>1</td>\n",
       "      <td>NaN</td>\n",
       "      <td>NaN</td>\n",
       "      <td>NaN</td>\n",
       "      <td>NaN</td>\n",
       "      <td>NaN</td>\n",
       "      <td>NaN</td>\n",
       "      <td>NaN</td>\n",
       "      <td>NaN</td>\n",
       "      <td>Dies in Secret Invasion V1:I8. Actually was se...</td>\n",
       "    </tr>\n",
       "    <tr>\n",
       "      <th>2</th>\n",
       "      <td>http://marvel.wikia.com/Anthony_Stark_(Earth-616)</td>\n",
       "      <td>Anthony Edward \"Tony\" Stark</td>\n",
       "      <td>3068</td>\n",
       "      <td>YES</td>\n",
       "      <td>MALE</td>\n",
       "      <td>NaN</td>\n",
       "      <td>Sep-63</td>\n",
       "      <td>1963</td>\n",
       "      <td>52</td>\n",
       "      <td>Full</td>\n",
       "      <td>...</td>\n",
       "      <td>1</td>\n",
       "      <td>NaN</td>\n",
       "      <td>NaN</td>\n",
       "      <td>NaN</td>\n",
       "      <td>NaN</td>\n",
       "      <td>NaN</td>\n",
       "      <td>NaN</td>\n",
       "      <td>NaN</td>\n",
       "      <td>NaN</td>\n",
       "      <td>Death: \"Later while under the influence of Imm...</td>\n",
       "    </tr>\n",
       "    <tr>\n",
       "      <th>3</th>\n",
       "      <td>http://marvel.wikia.com/Robert_Bruce_Banner_(E...</td>\n",
       "      <td>Robert Bruce Banner</td>\n",
       "      <td>2089</td>\n",
       "      <td>YES</td>\n",
       "      <td>MALE</td>\n",
       "      <td>NaN</td>\n",
       "      <td>Sep-63</td>\n",
       "      <td>1963</td>\n",
       "      <td>52</td>\n",
       "      <td>Full</td>\n",
       "      <td>...</td>\n",
       "      <td>1</td>\n",
       "      <td>NaN</td>\n",
       "      <td>NaN</td>\n",
       "      <td>NaN</td>\n",
       "      <td>NaN</td>\n",
       "      <td>NaN</td>\n",
       "      <td>NaN</td>\n",
       "      <td>NaN</td>\n",
       "      <td>NaN</td>\n",
       "      <td>Dies in Ghosts of the Future arc. However \"he ...</td>\n",
       "    </tr>\n",
       "    <tr>\n",
       "      <th>4</th>\n",
       "      <td>http://marvel.wikia.com/Thor_Odinson_(Earth-616)</td>\n",
       "      <td>Thor Odinson</td>\n",
       "      <td>2402</td>\n",
       "      <td>YES</td>\n",
       "      <td>MALE</td>\n",
       "      <td>NaN</td>\n",
       "      <td>Sep-63</td>\n",
       "      <td>1963</td>\n",
       "      <td>52</td>\n",
       "      <td>Full</td>\n",
       "      <td>...</td>\n",
       "      <td>1</td>\n",
       "      <td>YES</td>\n",
       "      <td>NO</td>\n",
       "      <td>NaN</td>\n",
       "      <td>NaN</td>\n",
       "      <td>NaN</td>\n",
       "      <td>NaN</td>\n",
       "      <td>NaN</td>\n",
       "      <td>NaN</td>\n",
       "      <td>Dies in Fear Itself brought back because that'...</td>\n",
       "    </tr>\n",
       "  </tbody>\n",
       "</table>\n",
       "<p>5 rows × 21 columns</p>\n",
       "</div>"
      ],
      "text/plain": [
       "                                                 URL  \\\n",
       "0      http://marvel.wikia.com/Henry_Pym_(Earth-616)   \n",
       "1  http://marvel.wikia.com/Janet_van_Dyne_(Earth-...   \n",
       "2  http://marvel.wikia.com/Anthony_Stark_(Earth-616)   \n",
       "3  http://marvel.wikia.com/Robert_Bruce_Banner_(E...   \n",
       "4   http://marvel.wikia.com/Thor_Odinson_(Earth-616)   \n",
       "\n",
       "                    Name/Alias  Appearances Current?  Gender  \\\n",
       "0    Henry Jonathan \"Hank\" Pym         1269      YES    MALE   \n",
       "1               Janet van Dyne         1165      YES  FEMALE   \n",
       "2  Anthony Edward \"Tony\" Stark         3068      YES    MALE   \n",
       "3          Robert Bruce Banner         2089      YES    MALE   \n",
       "4                 Thor Odinson         2402      YES    MALE   \n",
       "\n",
       "  Probationary Introl Full/Reserve Avengers Intro  Year  Years since joining  \\\n",
       "0                 NaN                      Sep-63  1963                   52   \n",
       "1                 NaN                      Sep-63  1963                   52   \n",
       "2                 NaN                      Sep-63  1963                   52   \n",
       "3                 NaN                      Sep-63  1963                   52   \n",
       "4                 NaN                      Sep-63  1963                   52   \n",
       "\n",
       "  Honorary  ...  Return1  Death2 Return2 Death3 Return3 Death4 Return4 Death5  \\\n",
       "0     Full  ...        0     NaN     NaN    NaN     NaN    NaN     NaN    NaN   \n",
       "1     Full  ...        1     NaN     NaN    NaN     NaN    NaN     NaN    NaN   \n",
       "2     Full  ...        1     NaN     NaN    NaN     NaN    NaN     NaN    NaN   \n",
       "3     Full  ...        1     NaN     NaN    NaN     NaN    NaN     NaN    NaN   \n",
       "4     Full  ...        1     YES      NO    NaN     NaN    NaN     NaN    NaN   \n",
       "\n",
       "  Return5                                              Notes  \n",
       "0     NaN  Merged with Ultron in Rage of Ultron Vol. 1. A...  \n",
       "1     NaN  Dies in Secret Invasion V1:I8. Actually was se...  \n",
       "2     NaN  Death: \"Later while under the influence of Imm...  \n",
       "3     NaN  Dies in Ghosts of the Future arc. However \"he ...  \n",
       "4     NaN  Dies in Fear Itself brought back because that'...  \n",
       "\n",
       "[5 rows x 21 columns]"
      ]
     },
     "execution_count": 11,
     "metadata": {},
     "output_type": "execute_result"
    }
   ],
   "source": [
    "df.head()"
   ]
  },
  {
   "cell_type": "code",
   "execution_count": 7,
   "metadata": {},
   "outputs": [],
   "source": [
    "df[\"Return1\"] = df[\"Return1\"].fillna(\"NO\")"
   ]
  },
  {
   "cell_type": "code",
   "execution_count": 10,
   "metadata": {},
   "outputs": [],
   "source": [
    "df[\"Death1\"] = df[\"Death1\"].map({'YES':1, 'NO':0})\n",
    "df[\"Return1\"] = df[\"Return1\"].map({'YES':1, 'NO':0})"
   ]
  },
  {
   "cell_type": "code",
   "execution_count": 20,
   "metadata": {},
   "outputs": [
    {
     "data": {
      "image/png": "[encoded data removed]",
      "text/plain": [
       "<Figure size 1200x500 with 2 Axes>"
      ]
     },
     "metadata": {},
     "output_type": "display_data"
    }
   ],
   "source": [
    "# Qual a distribuicao de genero dos herois\n",
    "from cProfile import label\n",
    "\n",
    "from matplotlib import colors\n",
    "from matplotlib.pyplot import bar\n",
    "\n",
    "\n",
    "sexo_contagem = df['Gender'].value_counts()\n",
    "\n",
    "# graficos\n",
    "fig, axes = plt.subplots(1,2,figsize=(12,5))\n",
    "\n",
    "# pizza\n",
    "axes[0].pie(sexo_contagem, labels=sexo_contagem.index, autopct='%1.1f%%', colors=['blue', 'pink'])\n",
    "axes[0].set_title('Distribuição Sexo')\n",
    "\n",
    "# coluna\n",
    "axes[1].bar(sexo_contagem.index, sexo_contagem.values, color=['blue','pink'])\n",
    "axes[1].set_title('Distribuição Sexo')\n",
    "axes[1].set_ylabel('Quantidade')\n",
    "\n",
    "# carrega o grafico\n",
    "plt.tight_layout()\n",
    "plt.show()"
   ]
  },
  {
   "cell_type": "code",
   "execution_count": 15,
   "metadata": {},
   "outputs": [
    {
     "data": {
      "text/plain": [
       "Gender\n",
       "MALE      115\n",
       "FEMALE     58\n",
       "Name: count, dtype: int64"
      ]
     },
     "execution_count": 15,
     "metadata": {},
     "output_type": "execute_result"
    }
   ],
   "source": [
    "sexo_contagem"
   ]
  }
 ],
 "metadata": {
  "kernelspec": {
   "display_name": "Python 3",
   "language": "python",
   "name": "python3"
  },
  "language_info": {
   "codemirror_mode": {
    "name": "ipython",
    "version": 3
   },
   "file_extension": ".py",
   "mimetype": "text/x-python",
   "name": "python",
   "nbconvert_exporter": "python",
   "pygments_lexer": "ipython3",
   "version": "3.12.3"
  }
 },
 "nbformat": 4,
 "nbformat_minor": 2
}
